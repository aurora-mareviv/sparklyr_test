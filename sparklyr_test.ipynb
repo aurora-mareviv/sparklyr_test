{
 "cells": [
  {
   "cell_type": "markdown",
   "metadata": {
    "collapsed": true
   },
   "source": [
    "# Testing Spark + `sparklyr`"
   ]
  },
  {
   "cell_type": "markdown",
   "metadata": {},
   "source": [
    "## Table of Contents\n",
    "\n",
    "- [Kickstart](#Kickstart)\n",
    "- [Uploading the data in JSON format](#Uploading-the-data-in-JSON-format)\n",
    "- [Install libraries in SparkR](#Install-libraries-in-SparkR)\n",
    "- [Spark and R in Jupyter](#Spark-and-R-in-Jupyter)\n",
    "    - [Configuring Spark and R](#Configuring-Spark-and-R)\n",
    "    - [Loading spark context (RDDs)](#Loading-spark-context-(RDDs)\n",
    "- [Reading JSON into Spark context: `jscars.json`](#Reading-JSON-into-Spark-context:-jscars.json)\n",
    "    - [Basic data wrangling](#Basic-data-wrangling)\n",
    "    - [Graphs](#Graphs)\n",
    "    - [Models: K-means](#Models:-K-means)\n",
    "- [Kill YARN application and free memory](#Kill-YARN-application-and-free-memory)\n",
    "- [Session](#Session)\n",
    "    - [Paths recognised by sparkR](#Paths-recognised-by-sparkR)\n",
    "    - [R session info](#R-session-info)\n",
    "- [References](#References)"
   ]
  },
  {
   "cell_type": "markdown",
   "metadata": {},
   "source": [
    "## Kickstart"
   ]
  },
  {
   "cell_type": "markdown",
   "metadata": {},
   "source": [
    "Please, read the [pyspark course](https://github.com/javicacheiro/pyspark_course/blob/master/unit_1_tools.ipynb) here (points 1.1 to 1.3)."
   ]
  },
  {
   "cell_type": "markdown",
   "metadata": {},
   "source": [
    "## Uploading the data in JSON format "
   ]
  },
  {
   "cell_type": "markdown",
   "metadata": {},
   "source": [
    "First, we need to upload our data from our HOME to the HDFS home directory.  \n",
    "- You can add a single file, or an entire folder.\n",
    "- You can also list or delete files, folders."
   ]
  },
  {
   "cell_type": "markdown",
   "metadata": {},
   "source": [
    "      # locate home directory\n",
    "      echo $HOME\n",
    "      # import data into hdfs\n",
    "      hdfs dfs -put /mnt/gluster/...../data/jscars.json .\n",
    "      # list files\n",
    "      hdfs dfs -ls\n",
    "      # delete files, folders from hdfs\n",
    "      hdfs dfs -rm -r -f data/jscars.json"
   ]
  },
  {
   "cell_type": "markdown",
   "metadata": {},
   "source": [
    "## Install libraries in SparkR"
   ]
  },
  {
   "cell_type": "markdown",
   "metadata": {},
   "source": [
    "Before all, enter `sparkR` from your HOME directory:"
   ]
  },
  {
   "cell_type": "markdown",
   "metadata": {},
   "source": [
    "    $ sparkR"
   ]
  },
  {
   "cell_type": "markdown",
   "metadata": {},
   "source": [
    "Then, install the libraries as needed. When you finish, exit the interactive `sparkR` session."
   ]
  },
  {
   "cell_type": "markdown",
   "metadata": {},
   "source": [
    "    > install.packages(c(\"sparklyr\", \"dplyr\", \"knitr\", \"ggplot2\", \"repr\")\n",
    "    > q()"
   ]
  },
  {
   "cell_type": "markdown",
   "metadata": {},
   "source": [
    "## Spark and R in Jupyter"
   ]
  },
  {
   "cell_type": "markdown",
   "metadata": {},
   "source": [
    "### Configuring Spark and R "
   ]
  },
  {
   "cell_type": "markdown",
   "metadata": {},
   "source": [
    "Add this variable to .bashrc to avoid setting `Sys.setenv` in `R`."
   ]
  },
  {
   "cell_type": "markdown",
   "metadata": {},
   "source": [
    "    $ cd $HOME\n",
    "      export R_PROFILE_USER=/usr/hdp/2.4.2.0-258/spark/R/lib/SparkR/profile/shell.R\n",
    "      source .bashrc"
   ]
  },
  {
   "cell_type": "markdown",
   "metadata": {},
   "source": [
    "Set `R` environment variables (needed for Jupyter notebooks in the cluster `sparkR` installation)."
   ]
  },
  {
   "cell_type": "code",
   "execution_count": 2,
   "metadata": {
    "collapsed": true
   },
   "outputs": [],
   "source": [
    "# Sys.setenv(SPARK_HOME='/usr/hdp/2.4.2.0-258/spark') # commented after being added to .bashrc\n",
    ".libPaths(c(file.path(Sys.getenv('SPARK_HOME'), 'R', 'lib'), .libPaths()))"
   ]
  },
  {
   "cell_type": "markdown",
   "metadata": {},
   "source": [
    "Load libraries:"
   ]
  },
  {
   "cell_type": "code",
   "execution_count": 4,
   "metadata": {},
   "outputs": [
    {
     "data": {
      "text/html": [
       "<ol>\n",
       "\t<li>TRUE</li>\n",
       "\t<li>TRUE</li>\n",
       "\t<li>TRUE</li>\n",
       "\t<li>TRUE</li>\n",
       "\t<li>TRUE</li>\n",
       "</ol>\n"
      ],
      "text/latex": [
       "\\begin{enumerate}\n",
       "\\item TRUE\n",
       "\\item TRUE\n",
       "\\item TRUE\n",
       "\\item TRUE\n",
       "\\item TRUE\n",
       "\\end{enumerate}\n"
      ],
      "text/markdown": [
       "1. TRUE\n",
       "2. TRUE\n",
       "3. TRUE\n",
       "4. TRUE\n",
       "5. TRUE\n",
       "\n",
       "\n"
      ],
      "text/plain": [
       "[[1]]\n",
       "[1] TRUE\n",
       "\n",
       "[[2]]\n",
       "[1] TRUE\n",
       "\n",
       "[[3]]\n",
       "[1] TRUE\n",
       "\n",
       "[[4]]\n",
       "[1] TRUE\n",
       "\n",
       "[[5]]\n",
       "[1] TRUE\n"
      ]
     },
     "metadata": {},
     "output_type": "display_data"
    }
   ],
   "source": [
    "x <- c(\"sparklyr\", \"dplyr\", \"knitr\", \"ggplot2\", \"repr\")\n",
    "lapply(x, require, character.only = TRUE, quietly = TRUE)"
   ]
  },
  {
   "cell_type": "markdown",
   "metadata": {},
   "source": [
    "### Loading spark context (RDDs)"
   ]
  },
  {
   "cell_type": "markdown",
   "metadata": {},
   "source": [
    "Currently there are three types of contexts:\n",
    "\n",
    "- Local context: \n",
    "    - Interactive. \n",
    "    - If the user exits session, the tasks are terminated (use `screen` to run after session close).\n",
    "    - All processes reside in the LOGIN node (drivers and executors).\n",
    "    - Can only be used for tasks that require very few resources.\n",
    "- YARN-client: \n",
    "    - Interactive.\n",
    "    - If the user exits session, the tasks are terminated (use `screen` to run after session close).\n",
    "    - The driver resides in the LOGIN node, but the executors are in the CLUSTER nodes. Thus, executors can use all the memory available for the task in the CLUSTER nodes.\n",
    "    - Can be used for memory-intensive tasks.\n",
    "- YARN-cluster:\n",
    "    - Not interactive.\n",
    "    - Both the driver and the executors reside in the CLUSTER nodes.\n",
    "    - Can be used for memory-intensive tasks.\n",
    "    - Currenty doesn't seem available for this version of `R/sparklyr`.\n",
    "    \n",
    "Defining a new context (`sc`) overwrites the previous one."
   ]
  },
  {
   "cell_type": "code",
   "execution_count": 5,
   "metadata": {
    "collapsed": true
   },
   "outputs": [],
   "source": [
    "# Initiating spark context: local (for 'low memory' tasks only!)\n",
    "sc <- spark_connect(master = \"local\", spark_home = \"/usr/hdp/2.4.2.0-258/spark\")\n",
    "\n",
    "# Initiating spark context: yarn (for loading bigger datasets)\n",
    "sc <- spark_connect(master = \"yarn-client\", spark_home = \"/usr/hdp/2.4.2.0-258/spark\")"
   ]
  },
  {
   "cell_type": "markdown",
   "metadata": {},
   "source": [
    "## Reading JSON into Spark context: `jscars.json`"
   ]
  },
  {
   "cell_type": "markdown",
   "metadata": {},
   "source": [
    "The data `jscars.json` is the `mtcars` dataset saved in a JSON format."
   ]
  },
  {
   "cell_type": "code",
   "execution_count": 6,
   "metadata": {
    "collapsed": true
   },
   "outputs": [],
   "source": [
    "jscars <- spark_read_json(sc, name = \"jscars\", path = \"data/jscars.json\")"
   ]
  },
  {
   "cell_type": "code",
   "execution_count": 7,
   "metadata": {},
   "outputs": [
    {
     "data": {
      "text/html": [
       "<table>\n",
       "<thead><tr><th scope=col>am</th><th scope=col>carb</th><th scope=col>cyl</th><th scope=col>disp</th><th scope=col>drat</th><th scope=col>gear</th><th scope=col>hp</th><th scope=col>mpg</th><th scope=col>qsec</th><th scope=col>vs</th><th scope=col>wt</th></tr></thead>\n",
       "<tbody>\n",
       "\t<tr><td>1    </td><td>4    </td><td>6    </td><td>160  </td><td>3.90 </td><td>4    </td><td>110  </td><td>21.0 </td><td>16.46</td><td>0    </td><td>2.620</td></tr>\n",
       "\t<tr><td>1    </td><td>4    </td><td>6    </td><td>160  </td><td>3.90 </td><td>4    </td><td>110  </td><td>21.0 </td><td>17.02</td><td>0    </td><td>2.875</td></tr>\n",
       "\t<tr><td>1    </td><td>1    </td><td>4    </td><td>108  </td><td>3.85 </td><td>4    </td><td> 93  </td><td>22.8 </td><td>18.61</td><td>1    </td><td>2.320</td></tr>\n",
       "\t<tr><td>0    </td><td>1    </td><td>6    </td><td>258  </td><td>3.08 </td><td>3    </td><td>110  </td><td>21.4 </td><td>19.44</td><td>1    </td><td>3.215</td></tr>\n",
       "\t<tr><td>0    </td><td>2    </td><td>8    </td><td>360  </td><td>3.15 </td><td>3    </td><td>175  </td><td>18.7 </td><td>17.02</td><td>0    </td><td>3.440</td></tr>\n",
       "</tbody>\n",
       "</table>\n"
      ],
      "text/latex": [
       "\\begin{tabular}{r|lllllllllll}\n",
       " am & carb & cyl & disp & drat & gear & hp & mpg & qsec & vs & wt\\\\\n",
       "\\hline\n",
       "\t 1     & 4     & 6     & 160   & 3.90  & 4     & 110   & 21.0  & 16.46 & 0     & 2.620\\\\\n",
       "\t 1     & 4     & 6     & 160   & 3.90  & 4     & 110   & 21.0  & 17.02 & 0     & 2.875\\\\\n",
       "\t 1     & 1     & 4     & 108   & 3.85  & 4     &  93   & 22.8  & 18.61 & 1     & 2.320\\\\\n",
       "\t 0     & 1     & 6     & 258   & 3.08  & 3     & 110   & 21.4  & 19.44 & 1     & 3.215\\\\\n",
       "\t 0     & 2     & 8     & 360   & 3.15  & 3     & 175   & 18.7  & 17.02 & 0     & 3.440\\\\\n",
       "\\end{tabular}\n"
      ],
      "text/markdown": [
       "\n",
       "am | carb | cyl | disp | drat | gear | hp | mpg | qsec | vs | wt | \n",
       "|---|---|---|---|---|\n",
       "| 1     | 4     | 6     | 160   | 3.90  | 4     | 110   | 21.0  | 16.46 | 0     | 2.620 | \n",
       "| 1     | 4     | 6     | 160   | 3.90  | 4     | 110   | 21.0  | 17.02 | 0     | 2.875 | \n",
       "| 1     | 1     | 4     | 108   | 3.85  | 4     |  93   | 22.8  | 18.61 | 1     | 2.320 | \n",
       "| 0     | 1     | 6     | 258   | 3.08  | 3     | 110   | 21.4  | 19.44 | 1     | 3.215 | \n",
       "| 0     | 2     | 8     | 360   | 3.15  | 3     | 175   | 18.7  | 17.02 | 0     | 3.440 | \n",
       "\n",
       "\n"
      ],
      "text/plain": [
       "  am carb cyl disp drat gear hp  mpg  qsec  vs wt   \n",
       "1 1  4    6   160  3.90 4    110 21.0 16.46 0  2.620\n",
       "2 1  4    6   160  3.90 4    110 21.0 17.02 0  2.875\n",
       "3 1  1    4   108  3.85 4     93 22.8 18.61 1  2.320\n",
       "4 0  1    6   258  3.08 3    110 21.4 19.44 1  3.215\n",
       "5 0  2    8   360  3.15 3    175 18.7 17.02 0  3.440"
      ]
     },
     "metadata": {},
     "output_type": "display_data"
    }
   ],
   "source": [
    "jscars %>%\n",
    "  head(6) %>%\n",
    "  collect()"
   ]
  },
  {
   "cell_type": "markdown",
   "metadata": {},
   "source": [
    "### Basic data wrangling"
   ]
  },
  {
   "cell_type": "markdown",
   "metadata": {},
   "source": [
    "We can make good use of `magrittr::%>%` *pipes* for data wrangling or window operations:  \n",
    "The `warnings` issued here are usually not important. They depend on the `sparklyr` version. See [here](https://github.com/rstudio/sparklyr/issues/426) for more info."
   ]
  },
  {
   "cell_type": "code",
   "execution_count": 10,
   "metadata": {},
   "outputs": [
    {
     "data": {
      "text/html": [
       "<table>\n",
       "<thead><tr><th scope=col>vs</th><th scope=col>gear</th><th scope=col>mpg_rank</th><th scope=col>horsepower_by_gear</th></tr></thead>\n",
       "<tbody>\n",
       "\t<tr><td>0</td><td>3</td><td>1</td><td>4</td></tr>\n",
       "\t<tr><td>0</td><td>3</td><td>1</td><td>5</td></tr>\n",
       "\t<tr><td>0</td><td>3</td><td>3</td><td>1</td></tr>\n",
       "\t<tr><td>0</td><td>3</td><td>4</td><td>1</td></tr>\n",
       "\t<tr><td>0</td><td>3</td><td>5</td><td>3</td></tr>\n",
       "\t<tr><td>0</td><td>3</td><td>6</td><td>6</td></tr>\n",
       "</tbody>\n",
       "</table>\n"
      ],
      "text/latex": [
       "\\begin{tabular}{r|llll}\n",
       " vs & gear & mpg\\_rank & horsepower\\_by\\_gear\\\\\n",
       "\\hline\n",
       "\t 0 & 3 & 1 & 4\\\\\n",
       "\t 0 & 3 & 1 & 5\\\\\n",
       "\t 0 & 3 & 3 & 1\\\\\n",
       "\t 0 & 3 & 4 & 1\\\\\n",
       "\t 0 & 3 & 5 & 3\\\\\n",
       "\t 0 & 3 & 6 & 6\\\\\n",
       "\\end{tabular}\n"
      ],
      "text/markdown": [
       "\n",
       "vs | gear | mpg_rank | horsepower_by_gear | \n",
       "|---|---|---|---|---|---|\n",
       "| 0 | 3 | 1 | 4 | \n",
       "| 0 | 3 | 1 | 5 | \n",
       "| 0 | 3 | 3 | 1 | \n",
       "| 0 | 3 | 4 | 1 | \n",
       "| 0 | 3 | 5 | 3 | \n",
       "| 0 | 3 | 6 | 6 | \n",
       "\n",
       "\n"
      ],
      "text/plain": [
       "  vs gear mpg_rank horsepower_by_gear\n",
       "1 0  3    1        4                 \n",
       "2 0  3    1        5                 \n",
       "3 0  3    3        1                 \n",
       "4 0  3    4        1                 \n",
       "5 0  3    5        3                 \n",
       "6 0  3    6        6                 "
      ]
     },
     "metadata": {},
     "output_type": "display_data"
    }
   ],
   "source": [
    "jscars %>%\n",
    "  group_by(vs) %>%\n",
    "  filter(gear == 3, hp > 100) %>%\n",
    "  mutate(horsepower_by_gear = rank(desc(hp / gear))) %>%\n",
    "  mutate(mpg_rank = rank(mpg)) %>%\n",
    "  select(gear, mpg_rank, horsepower_by_gear) %>% \n",
    "  head(6) %>%\n",
    "  collect()"
   ]
  },
  {
   "cell_type": "markdown",
   "metadata": {},
   "source": [
    "We can disable this warning with:"
   ]
  },
  {
   "cell_type": "code",
   "execution_count": 9,
   "metadata": {
    "collapsed": true
   },
   "outputs": [],
   "source": [
    "options(warn = -1)"
   ]
  },
  {
   "cell_type": "markdown",
   "metadata": {},
   "source": [
    "### Graphs "
   ]
  },
  {
   "cell_type": "code",
   "execution_count": 14,
   "metadata": {},
   "outputs": [
    {
     "name": "stderr",
     "output_type": "stream",
     "text": [
      "`geom_smooth()` using method = 'loess'\n"
     ]
    },
    {
     "data": {},
     "metadata": {},
     "output_type": "display_data"
    },
    {
     "data": {
      "image/png": "[encoded data removed]",
      "text/plain": [
       "plot without title"
      ]
     },
     "metadata": {},
     "output_type": "display_data"
    }
   ],
   "source": [
    "options(repr.plot.width=6, repr.plot.height=4)\n",
    "\n",
    "jscars %>%\n",
    "  collect() %>%\n",
    "    ggplot(aes(wt, mpg)) +\n",
    "    geom_point(aes(colour=factor(gear), size=hp)) + \n",
    "    geom_smooth(colour=\"#737373\", alpha=0.3) + \n",
    "    theme_bw()"
   ]
  },
  {
   "cell_type": "markdown",
   "metadata": {},
   "source": [
    "### Models: K-means "
   ]
  },
  {
   "cell_type": "code",
   "execution_count": 16,
   "metadata": {},
   "outputs": [
    {
     "name": "stderr",
     "output_type": "stream",
     "text": [
      "* No rows dropped by 'na.omit' call\n"
     ]
    },
    {
     "name": "stdout",
     "output_type": "stream",
     "text": [
      "K-means clustering with 3 clusters\n",
      "\n",
      "Cluster centers:\n",
      "        wt      mpg\n",
      "1 3.971714 14.95714\n",
      "2 1.819600 30.88000\n",
      "3 2.942308 21.46923\n",
      "\n",
      "Within Set Sum of Squared Errors =  161.3099"
     ]
    }
   ],
   "source": [
    "kmeans_model <- jscars %>%\n",
    "  select(wt, mpg) %>%\n",
    "  ml_kmeans(centers = 3)\n",
    "\n",
    "print(kmeans_model)"
   ]
  },
  {
   "cell_type": "code",
   "execution_count": 17,
   "metadata": {},
   "outputs": [
    {
     "data": {
      "text/html": [
       "<table>\n",
       "<thead><tr><th scope=col>am</th><th scope=col>carb</th><th scope=col>cyl</th><th scope=col>disp</th><th scope=col>drat</th><th scope=col>gear</th><th scope=col>hp</th><th scope=col>mpg</th><th scope=col>qsec</th><th scope=col>vs</th><th scope=col>wt</th><th scope=col>prediction</th></tr></thead>\n",
       "<tbody>\n",
       "\t<tr><td>1    </td><td>4    </td><td>6    </td><td>160  </td><td>3.90 </td><td>4    </td><td>110  </td><td>21.0 </td><td>16.46</td><td>0    </td><td>2.620</td><td>2    </td></tr>\n",
       "\t<tr><td>1    </td><td>4    </td><td>6    </td><td>160  </td><td>3.90 </td><td>4    </td><td>110  </td><td>21.0 </td><td>17.02</td><td>0    </td><td>2.875</td><td>2    </td></tr>\n",
       "\t<tr><td>1    </td><td>1    </td><td>4    </td><td>108  </td><td>3.85 </td><td>4    </td><td> 93  </td><td>22.8 </td><td>18.61</td><td>1    </td><td>2.320</td><td>2    </td></tr>\n",
       "\t<tr><td>0    </td><td>1    </td><td>6    </td><td>258  </td><td>3.08 </td><td>3    </td><td>110  </td><td>21.4 </td><td>19.44</td><td>1    </td><td>3.215</td><td>2    </td></tr>\n",
       "\t<tr><td>0    </td><td>2    </td><td>8    </td><td>360  </td><td>3.15 </td><td>3    </td><td>175  </td><td>18.7 </td><td>17.02</td><td>0    </td><td>3.440</td><td>2    </td></tr>\n",
       "\t<tr><td>0    </td><td>1    </td><td>6    </td><td>225  </td><td>2.76 </td><td>3    </td><td>105  </td><td>18.1 </td><td>20.22</td><td>1    </td><td>3.460</td><td>0    </td></tr>\n",
       "</tbody>\n",
       "</table>\n"
      ],
      "text/latex": [
       "\\begin{tabular}{r|llllllllllll}\n",
       " am & carb & cyl & disp & drat & gear & hp & mpg & qsec & vs & wt & prediction\\\\\n",
       "\\hline\n",
       "\t 1     & 4     & 6     & 160   & 3.90  & 4     & 110   & 21.0  & 16.46 & 0     & 2.620 & 2    \\\\\n",
       "\t 1     & 4     & 6     & 160   & 3.90  & 4     & 110   & 21.0  & 17.02 & 0     & 2.875 & 2    \\\\\n",
       "\t 1     & 1     & 4     & 108   & 3.85  & 4     &  93   & 22.8  & 18.61 & 1     & 2.320 & 2    \\\\\n",
       "\t 0     & 1     & 6     & 258   & 3.08  & 3     & 110   & 21.4  & 19.44 & 1     & 3.215 & 2    \\\\\n",
       "\t 0     & 2     & 8     & 360   & 3.15  & 3     & 175   & 18.7  & 17.02 & 0     & 3.440 & 2    \\\\\n",
       "\t 0     & 1     & 6     & 225   & 2.76  & 3     & 105   & 18.1  & 20.22 & 1     & 3.460 & 0    \\\\\n",
       "\\end{tabular}\n"
      ],
      "text/markdown": [
       "\n",
       "am | carb | cyl | disp | drat | gear | hp | mpg | qsec | vs | wt | prediction | \n",
       "|---|---|---|---|---|---|\n",
       "| 1     | 4     | 6     | 160   | 3.90  | 4     | 110   | 21.0  | 16.46 | 0     | 2.620 | 2     | \n",
       "| 1     | 4     | 6     | 160   | 3.90  | 4     | 110   | 21.0  | 17.02 | 0     | 2.875 | 2     | \n",
       "| 1     | 1     | 4     | 108   | 3.85  | 4     |  93   | 22.8  | 18.61 | 1     | 2.320 | 2     | \n",
       "| 0     | 1     | 6     | 258   | 3.08  | 3     | 110   | 21.4  | 19.44 | 1     | 3.215 | 2     | \n",
       "| 0     | 2     | 8     | 360   | 3.15  | 3     | 175   | 18.7  | 17.02 | 0     | 3.440 | 2     | \n",
       "| 0     | 1     | 6     | 225   | 2.76  | 3     | 105   | 18.1  | 20.22 | 1     | 3.460 | 0     | \n",
       "\n",
       "\n"
      ],
      "text/plain": [
       "  am carb cyl disp drat gear hp  mpg  qsec  vs wt    prediction\n",
       "1 1  4    6   160  3.90 4    110 21.0 16.46 0  2.620 2         \n",
       "2 1  4    6   160  3.90 4    110 21.0 17.02 0  2.875 2         \n",
       "3 1  1    4   108  3.85 4     93 22.8 18.61 1  2.320 2         \n",
       "4 0  1    6   258  3.08 3    110 21.4 19.44 1  3.215 2         \n",
       "5 0  2    8   360  3.15 3    175 18.7 17.02 0  3.440 2         \n",
       "6 0  1    6   225  2.76 3    105 18.1 20.22 1  3.460 0         "
      ]
     },
     "metadata": {},
     "output_type": "display_data"
    },
    {
     "data": {
      "text/plain": [
       "   \n",
       "     0  1  2\n",
       "  0 12  0  7\n",
       "  1  2  5  6"
      ]
     },
     "metadata": {},
     "output_type": "display_data"
    }
   ],
   "source": [
    "# predict the associated class\n",
    "predicts <- sdf_predict(kmeans_model, jscars) \n",
    "predicted <- collect(predicts)\n",
    "collect(head(predicted))\n",
    "base::table(predicted$am, predicted$prediction)"
   ]
  },
  {
   "cell_type": "code",
   "execution_count": 25,
   "metadata": {
    "scrolled": false
   },
   "outputs": [
    {
     "data": {},
     "metadata": {},
     "output_type": "display_data"
    },
    {
     "data": {
      "image/png": "[encoded data removed]",
      "text/plain": [
       "plot without title"
      ]
     },
     "metadata": {},
     "output_type": "display_data"
    }
   ],
   "source": [
    "# plot cluster membership\n",
    "sdf_predict(kmeans_model) %>%\n",
    "  collect() %>%\n",
    "  ggplot(aes(wt, mpg)) +\n",
    "    geom_point(aes(wt, mpg, col = factor(prediction + 1)),\n",
    "               size = 2, alpha = 0.5) + \n",
    "    geom_point(data = kmeans_model$centers, aes(wt, mpg),\n",
    "               col = scales::muted(c(\"red\", \"green\", \"blue\")),\n",
    "               pch = 'x', size = 12) +\n",
    "    scale_color_discrete(name = \"Predicted Cluster\",\n",
    "                         labels = paste(\"Cluster\", 1:3)) +\n",
    "    labs(\n",
    "      x = \"wt\",\n",
    "      y = \"mpg\",\n",
    "      title = \"K-Means Clustering\",\n",
    "      subtitle = \"Use Spark.ML to predict cluster membership with the jscars dataset.\"\n",
    "    ) +\n",
    "    theme_bw()"
   ]
  },
  {
   "cell_type": "markdown",
   "metadata": {},
   "source": [
    "## Kill YARN application and free memory\n",
    "\n",
    "How to see the aggregated logs produced by a job:\n",
    "      \n",
    "    yarn logs -applicationId <applicationID> | less\n",
    "\n",
    "How to see the list of running jobs:\n",
    "    \n",
    "    yarn application -list\n",
    "\n",
    "Kill an application:\n",
    "    \n",
    "    yarn application -kill <applicationID>"
   ]
  },
  {
   "cell_type": "markdown",
   "metadata": {},
   "source": [
    "## Session "
   ]
  },
  {
   "cell_type": "markdown",
   "metadata": {},
   "source": [
    "### Paths recognised by sparkR "
   ]
  },
  {
   "cell_type": "code",
   "execution_count": 29,
   "metadata": {
    "collapsed": true
   },
   "outputs": [],
   "source": [
    ".libPaths()\n",
    "Sys.getenv(\"R_HOME\")"
   ]
  },
  {
   "cell_type": "markdown",
   "metadata": {},
   "source": [
    "### R session info"
   ]
  },
  {
   "cell_type": "code",
   "execution_count": 30,
   "metadata": {},
   "outputs": [
    {
     "data": {
      "text/plain": [
       "R version 3.3.2 (2016-10-31)\n",
       "Platform: x86_64-pc-linux-gnu (64-bit)\n",
       "Running under: CentOS Linux 7 (Core)\n",
       "\n",
       "locale:\n",
       " [1] LC_CTYPE=es_ES.UTF-8       LC_NUMERIC=C              \n",
       " [3] LC_TIME=es_ES.UTF-8        LC_COLLATE=es_ES.UTF-8    \n",
       " [5] LC_MONETARY=es_ES.UTF-8    LC_MESSAGES=es_ES.UTF-8   \n",
       " [7] LC_PAPER=es_ES.UTF-8       LC_NAME=C                 \n",
       " [9] LC_ADDRESS=C               LC_TELEPHONE=C            \n",
       "[11] LC_MEASUREMENT=es_ES.UTF-8 LC_IDENTIFICATION=C       \n",
       "\n",
       "attached base packages:\n",
       "[1] stats     graphics  grDevices utils     datasets  methods   base     \n",
       "\n",
       "other attached packages:\n",
       "[1] repr_0.10      ggplot2_2.2.0  knitr_1.15.1   dplyr_0.7.1    sparklyr_0.5.6\n",
       "[6] SparkR_1.6.1  \n",
       "\n",
       "loaded via a namespace (and not attached):\n",
       " [1] Rcpp_0.12.8      plyr_1.8.4       highr_0.6        dbplyr_1.1.0    \n",
       " [5] bindr_0.1        base64enc_0.1-3  tools_3.3.2      digest_0.6.10   \n",
       " [9] uuid_0.1-2       gtable_0.2.0     jsonlite_1.1     evaluate_0.10   \n",
       "[13] tibble_1.3.3     pkgconfig_2.0.1  rlang_0.1.1      IRdisplay_0.4.4 \n",
       "[17] shiny_1.0.3      DBI_0.7          rstudioapi_0.6   IRkernel_0.7.1  \n",
       "[21] yaml_2.1.14      parallel_3.3.2   bindrcpp_0.2     withr_1.0.2     \n",
       "[25] httr_1.2.1       stringr_1.1.0    grid_3.3.2       rprojroot_1.1   \n",
       "[29] glue_1.1.1       R6_2.2.0         pbdZMQ_0.2-4     magrittr_1.5    \n",
       "[33] scales_0.4.1     backports_1.0.4  htmltools_0.3.5  assertthat_0.1  \n",
       "[37] colorspace_1.3-1 mime_0.5         xtable_1.8-2     httpuv_1.3.3    \n",
       "[41] labeling_0.3     config_0.2       stringi_1.1.2    lazyeval_0.2.0  \n",
       "[45] munsell_0.4.3    crayon_1.3.2    "
      ]
     },
     "metadata": {},
     "output_type": "display_data"
    }
   ],
   "source": [
    "sessionInfo()"
   ]
  },
  {
   "cell_type": "markdown",
   "metadata": {},
   "source": [
    "## References \n",
    "\n",
    "- [`sparklyr` tutorial](http://spark.rstudio.com/).\n",
    "- [`sparklyr` cheatsheet](http://spark.rstudio.com/images/sparklyr-cheatsheet.pdf).\n",
    "- [`sparklyr`: creating extensions](http://spark.rstudio.com/extensions.html).\n",
    "- [Differences between `sparkr` and `sparklyr`](https://stackoverflow.com/questions/39494484/sparkr-vs-sparklyr)..\n",
    "- [Hive Operators and UDFs](https://cwiki.apache.org/confluence/display/Hive/LanguageManual+UDF)."
   ]
  },
  {
   "cell_type": "code",
   "execution_count": null,
   "metadata": {
    "collapsed": true
   },
   "outputs": [],
   "source": []
  }
 ],
 "metadata": {
  "kernelspec": {
   "display_name": "R",
   "language": "R",
   "name": "ir"
  },
  "language_info": {
   "codemirror_mode": "r",
   "file_extension": ".r",
   "mimetype": "text/x-r-source",
   "name": "R",
   "pygments_lexer": "r",
   "version": "3.4.1"
  }
 },
 "nbformat": 4,
 "nbformat_minor": 1
}
