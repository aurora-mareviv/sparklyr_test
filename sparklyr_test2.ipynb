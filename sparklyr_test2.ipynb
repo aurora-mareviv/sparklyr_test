{
 "cells": [
  {
   "cell_type": "markdown",
   "metadata": {
    "collapsed": true
   },
   "source": [
    "# Testing Spark + `sparklyr` - part 2"
   ]
  },
  {
   "cell_type": "markdown",
   "metadata": {},
   "source": [
    "## Table of Contents\n",
    "\n",
    "- [Kickstart](#Kickstart)\n",
    "- [Uploading the data in JSON format](#Uploading-the-data-in-JSON-format)\n",
    "- [Install libraries in SparkR](#Install-libraries-in-SparkR)\n",
    "- [Spark and R in Jupyter](#Spark-and-R-in-Jupyter)\n",
    "    - [Configuring Spark and R](#Configuring-Spark-and-R)\n",
    "    - [Loading spark context (RDDs)](#Loading-spark-context-(RDDs)\n",
    "- [Reading JSON into Spark context: `reviews_Books_5.json`](#Reading-JSON-into-Spark-context:-reviews_Books_5.json)\n",
    "    - [Prepare dataset](#Prepare-dataset)\n",
    "    - [Split Data](#Split-Data)\n",
    "    - [Binarize - dichotomize](#Binarize---dichotomize)\n",
    "    - [Tokenize](#Tokenize)\n",
    "- [Workaround: `bin_reviews` in PySpark](#Workaround:-bin_reviews-in-PySpark)\n",
    "- [Returning to `sparklyr`](#Returning-to-sparklyr)\n",
    "    - [Remove stop-words](#Remove-stop-words)\n",
    "    - [Fit data](#Fit-data)\n",
    "    - [Predict](#Predict)\n",
    "    - [Plot data](#Plot-data)\n",
    "- [Session](#Session)\n",
    "    - [Paths recognised by sparkR](#Paths-recognised-by-sparkR)\n",
    "    - [R session info](#R-session-info)\n",
    "- [References](#References)"
   ]
  },
  {
   "cell_type": "markdown",
   "metadata": {},
   "source": [
    "## Kickstart"
   ]
  },
  {
   "cell_type": "markdown",
   "metadata": {},
   "source": [
    "See the [pyspark course](https://github.com/javicacheiro/pyspark_course/blob/master/unit_1_tools.ipynb) here."
   ]
  },
  {
   "cell_type": "markdown",
   "metadata": {},
   "source": [
    "## Uploading the data in JSON format "
   ]
  },
  {
   "cell_type": "markdown",
   "metadata": {},
   "source": [
    "First, we need to upload our data from our HOME to the HDFS home directory.  \n",
    "- You can add a single file, or an entire folder.\n",
    "- You can also list or delete files, folders."
   ]
  },
  {
   "cell_type": "markdown",
   "metadata": {},
   "source": [
    "    $ hdfs dfs -put /mnt/gluster/...../data/amazon/reviews_Books_5.json .\n",
    "      # list data\n",
    "      hdfs dfs -ls\n",
    "      # deleting files, folders\n",
    "      hdfs dfs -rm -r -f data/jscars.json"
   ]
  },
  {
   "cell_type": "markdown",
   "metadata": {},
   "source": [
    "## Install libraries in SparkR"
   ]
  },
  {
   "cell_type": "markdown",
   "metadata": {},
   "source": [
    "Before all, enter `sparkR` from your HOME directory:"
   ]
  },
  {
   "cell_type": "markdown",
   "metadata": {},
   "source": [
    "    $ sparkR"
   ]
  },
  {
   "cell_type": "markdown",
   "metadata": {},
   "source": [
    "Then, install the libraries as needed. When you finish, exit the interactive `sparkR` session."
   ]
  },
  {
   "cell_type": "markdown",
   "metadata": {},
   "source": [
    "    > install.packages(c(\"sparklyr\", \"dplyr\", \"knitr\", \"ggplot2\", \"repr\", \"tidytext\", \"tidyr\", \"purrr\")\n",
    "    > q()"
   ]
  },
  {
   "cell_type": "markdown",
   "metadata": {},
   "source": [
    "## Spark and R in Jupyter"
   ]
  },
  {
   "cell_type": "markdown",
   "metadata": {},
   "source": [
    "### Configuring Spark and R "
   ]
  },
  {
   "cell_type": "markdown",
   "metadata": {},
   "source": [
    "Add this variable to .bashrc to avoid setting `Sys.setenv` in `R`."
   ]
  },
  {
   "cell_type": "markdown",
   "metadata": {},
   "source": [
    "    $ cd $HOME\n",
    "      export R_PROFILE_USER=/usr/hdp/2.4.2.0-258/spark/R/lib/SparkR/profile/shell.R\n",
    "      source .bashrc"
   ]
  },
  {
   "cell_type": "markdown",
   "metadata": {},
   "source": [
    "Set `R` environment variables (needed for Jupyter notebooks in the cluster `sparkR` installation)."
   ]
  },
  {
   "cell_type": "code",
   "execution_count": 2,
   "metadata": {
    "collapsed": true
   },
   "outputs": [],
   "source": [
    "# Sys.setenv(SPARK_HOME='/usr/hdp/2.4.2.0-258/spark') # commented after being added to .bashrc\n",
    ".libPaths(c(file.path(Sys.getenv('SPARK_HOME'), 'R', 'lib'), .libPaths()))"
   ]
  },
  {
   "cell_type": "markdown",
   "metadata": {},
   "source": [
    "Load libraries:"
   ]
  },
  {
   "cell_type": "code",
   "execution_count": 4,
   "metadata": {},
   "outputs": [
    {
     "data": {
      "text/html": [
       "<ol>\n",
       "\t<li>TRUE</li>\n",
       "\t<li>TRUE</li>\n",
       "\t<li>TRUE</li>\n",
       "\t<li>TRUE</li>\n",
       "\t<li>TRUE</li>\n",
       "\t<li>TRUE</li>\n",
       "\t<li>TRUE</li>\n",
       "\t<li>TRUE</li>\n",
       "</ol>\n"
      ],
      "text/latex": [
       "\\begin{enumerate}\n",
       "\\item TRUE\n",
       "\\item TRUE\n",
       "\\item TRUE\n",
       "\\item TRUE\n",
       "\\item TRUE\n",
       "\\item TRUE\n",
       "\\item TRUE\n",
       "\\item TRUE\n",
       "\\end{enumerate}\n"
      ],
      "text/markdown": [
       "1. TRUE\n",
       "2. TRUE\n",
       "3. TRUE\n",
       "4. TRUE\n",
       "5. TRUE\n",
       "6. TRUE\n",
       "7. TRUE\n",
       "8. TRUE\n",
       "\n",
       "\n"
      ],
      "text/plain": [
       "[[1]]\n",
       "[1] TRUE\n",
       "\n",
       "[[2]]\n",
       "[1] TRUE\n",
       "\n",
       "[[3]]\n",
       "[1] TRUE\n",
       "\n",
       "[[4]]\n",
       "[1] TRUE\n",
       "\n",
       "[[5]]\n",
       "[1] TRUE\n",
       "\n",
       "[[6]]\n",
       "[1] TRUE\n",
       "\n",
       "[[7]]\n",
       "[1] TRUE\n",
       "\n",
       "[[8]]\n",
       "[1] TRUE\n"
      ]
     },
     "metadata": {},
     "output_type": "display_data"
    }
   ],
   "source": [
    "x <- c(\"sparklyr\", \"dplyr\", \"knitr\", \"ggplot2\", \"repr\", \"tidytext\", \"tidyr\", \"purrr\")\n",
    "lapply(x, require, character.only = TRUE, quietly = TRUE)"
   ]
  },
  {
   "cell_type": "markdown",
   "metadata": {},
   "source": [
    "### Loading spark context (RDDs)"
   ]
  },
  {
   "cell_type": "markdown",
   "metadata": {},
   "source": [
    "Currently there are three types of contexts:\n",
    "\n",
    "- Local context: \n",
    "    - Interactive. \n",
    "    - If the user exits session, the tasks are terminated (use `screen` to run after session close).\n",
    "    - All processes reside in the LOGIN node (drivers and executors).\n",
    "    - Can only be used for tasks that require very few resources.\n",
    "- YARN-client: \n",
    "    - Interactive.\n",
    "    - If the user exits session, the tasks are terminated (use `screen` to run after session close).\n",
    "    - The driver resides in the LOGIN node, but the executors are in the CLUSTER nodes. Thus, executors can use all the memory available for the task in the CLUSTER nodes.\n",
    "    - Can be used for memory-intensive tasks.\n",
    "- YARN-cluster:\n",
    "    - Not interactive.\n",
    "    - Both the driver and the executors reside in the CLUSTER nodes.\n",
    "    - Can be used for memory-intensive tasks.\n",
    "    - Currenty doesn't seem available for this version of `R/sparklyr`.\n",
    "    \n",
    "Defining a new context (`sc`) overwrites the previous one."
   ]
  },
  {
   "cell_type": "code",
   "execution_count": 5,
   "metadata": {
    "collapsed": true
   },
   "outputs": [],
   "source": [
    "# Initiating spark context: yarn (for loading bigger datasets)\n",
    "sc <- spark_connect(master = \"yarn-client\", spark_home = \"/usr/hdp/2.4.2.0-258/spark\")"
   ]
  },
  {
   "cell_type": "markdown",
   "metadata": {},
   "source": [
    "We can disable warnings with:"
   ]
  },
  {
   "cell_type": "code",
   "execution_count": 4,
   "metadata": {
    "collapsed": true
   },
   "outputs": [],
   "source": [
    "options(warn = -1)"
   ]
  },
  {
   "cell_type": "markdown",
   "metadata": {},
   "source": [
    "## Reading JSON into Spark context: `reviews_Books_5.json`"
   ]
  },
  {
   "cell_type": "markdown",
   "metadata": {},
   "source": [
    "We will use a [dataset of Amazon Product Data](http://snap.stanford.edu/data/amazon/productGraph/categoryFiles/reviews_Books_5.json.gz) [1] that contains 8.9M book reviews from Amazon, spanning May 1996 - July 2014.\n",
    "\n",
    "Dataset characteristics:\n",
    "\n",
    "- Number of reviews: 8.9M\n",
    "- Size: 8.8GB (uncompressed)\n",
    "- HDFS blocks: 70 (each with 3 replicas)\n",
    "\n",
    "[1] Image-based recommendations on styles and substitutes J. McAuley, C. Targett, J. Shi, A. van den Hengel SIGIR, 2015 http://jmcauley.ucsd.edu/data/amazon/.  \n",
    "\n",
    "I am translating into R the following tutorial: Sentiment analysis with Spark ML. [Material for Machine Learning Workshop Galicia 2016](http://nbviewer.jupyter.org/github/javicacheiro/machine_learning_galicia_2016/blob/master/notebooks/sentiment_analysis-amazon_books.ipynb)."
   ]
  },
  {
   "cell_type": "code",
   "execution_count": 6,
   "metadata": {
    "collapsed": true
   },
   "outputs": [],
   "source": [
    "books <- spark_read_json(sc, name = \"books\", path = \"amazon/reviews_Books_5.json\") \n",
    "# very big dataset"
   ]
  },
  {
   "cell_type": "code",
   "execution_count": 7,
   "metadata": {},
   "outputs": [
    {
     "data": {
      "text/html": [
       "<table>\n",
       "<thead><tr><th scope=col>asin</th><th scope=col>helpful</th><th scope=col>overall</th><th scope=col>reviewText</th><th scope=col>reviewTime</th><th scope=col>reviewerID</th><th scope=col>reviewerName</th><th scope=col>summary</th><th scope=col>unixReviewTime</th></tr></thead>\n",
       "<tbody>\n",
       "\t<tr><td>000100039X                                                                                                                                                                                                                                                                  </td><td>0, 0                                                                                                                                                                                                                                                                        </td><td>5                                                                                                                                                                                                                                                                           </td><td>Spiritually and mentally inspiring! A book that allows you to question your morals and will help you discover who you really are!                                                                                                                                           </td><td>12 16, 2012                                                                                                                                                                                                                                                                 </td><td>A10000012B7CGYKOMPQ4L                                                                                                                                                                                                                                                       </td><td>Adam                                                                                                                                                                                                                                                                        </td><td>Wonderful!                                                                                                                                                                                                                                                                  </td><td>1355616000                                                                                                                                                                                                                                                                  </td></tr>\n",
       "\t<tr><td>000100039X                                                                                                                                                                                                                                                                  </td><td>0, 2                                                                                                                                                                                                                                                                        </td><td>5                                                                                                                                                                                                                                                                           </td><td>This is one my must have books. It is a masterpiece of spirituality. I'll be the first to admit, its literary quality isn't much. It is rather simplistically written, but the message behind it is so powerful that you have to read it. It will take you to enlightenment.</td><td>12 11, 2003                                                                                                                                                                                                                                                                 </td><td>A2S166WSCFIFP5                                                                                                                                                                                                                                                              </td><td>adead_poet@hotmail.com \"adead_poet@hotmail.com\"                                                                                                                                                                                                                             </td><td>close to god                                                                                                                                                                                                                                                                </td><td>1071100800                                                                                                                                                                                                                                                                  </td></tr>\n",
       "</tbody>\n",
       "</table>\n"
      ],
      "text/latex": [
       "\\begin{tabular}{r|lllllllll}\n",
       " asin & helpful & overall & reviewText & reviewTime & reviewerID & reviewerName & summary & unixReviewTime\\\\\n",
       "\\hline\n",
       "\t 000100039X                                                                                                                                                                                                                                                                   & 0, 0                                                                                                                                                                                                                                                                         & 5                                                                                                                                                                                                                                                                            & Spiritually and mentally inspiring! A book that allows you to question your morals and will help you discover who you really are!                                                                                                                                            & 12 16, 2012                                                                                                                                                                                                                                                                  & A10000012B7CGYKOMPQ4L                                                                                                                                                                                                                                                        & Adam                                                                                                                                                                                                                                                                         & Wonderful!                                                                                                                                                                                                                                                                   & 1355616000                                                                                                                                                                                                                                                                  \\\\\n",
       "\t 000100039X                                                                                                                                                                                                                                                                   & 0, 2                                                                                                                                                                                                                                                                         & 5                                                                                                                                                                                                                                                                            & This is one my must have books. It is a masterpiece of spirituality. I'll be the first to admit, its literary quality isn't much. It is rather simplistically written, but the message behind it is so powerful that you have to read it. It will take you to enlightenment. & 12 11, 2003                                                                                                                                                                                                                                                                  & A2S166WSCFIFP5                                                                                                                                                                                                                                                               & adead\\_poet@hotmail.com \"adead\\_poet@hotmail.com\"                                                                                                                                                                                                                          & close to god                                                                                                                                                                                                                                                                 & 1071100800                                                                                                                                                                                                                                                                  \\\\\n",
       "\\end{tabular}\n"
      ],
      "text/markdown": [
       "\n",
       "asin | helpful | overall | reviewText | reviewTime | reviewerID | reviewerName | summary | unixReviewTime | \n",
       "|---|---|\n",
       "| 000100039X                                                                                                                                                                                                                                                                   | 0, 0                                                                                                                                                                                                                                                                         | 5                                                                                                                                                                                                                                                                            | Spiritually and mentally inspiring! A book that allows you to question your morals and will help you discover who you really are!                                                                                                                                            | 12 16, 2012                                                                                                                                                                                                                                                                  | A10000012B7CGYKOMPQ4L                                                                                                                                                                                                                                                        | Adam                                                                                                                                                                                                                                                                         | Wonderful!                                                                                                                                                                                                                                                                   | 1355616000                                                                                                                                                                                                                                                                   | \n",
       "| 000100039X                                                                                                                                                                                                                                                                   | 0, 2                                                                                                                                                                                                                                                                         | 5                                                                                                                                                                                                                                                                            | This is one my must have books. It is a masterpiece of spirituality. I'll be the first to admit, its literary quality isn't much. It is rather simplistically written, but the message behind it is so powerful that you have to read it. It will take you to enlightenment. | 12 11, 2003                                                                                                                                                                                                                                                                  | A2S166WSCFIFP5                                                                                                                                                                                                                                                               | adead_poet@hotmail.com \"adead_poet@hotmail.com\"                                                                                                                                                                                                                              | close to god                                                                                                                                                                                                                                                                 | 1071100800                                                                                                                                                                                                                                                                   | \n",
       "\n",
       "\n"
      ],
      "text/plain": [
       "  asin       helpful overall\n",
       "1 000100039X 0, 0    5      \n",
       "2 000100039X 0, 2    5      \n",
       "  reviewText                                                                                                                                                                                                                                                                  \n",
       "1 Spiritually and mentally inspiring! A book that allows you to question your morals and will help you discover who you really are!                                                                                                                                           \n",
       "2 This is one my must have books. It is a masterpiece of spirituality. I'll be the first to admit, its literary quality isn't much. It is rather simplistically written, but the message behind it is so powerful that you have to read it. It will take you to enlightenment.\n",
       "  reviewTime  reviewerID           \n",
       "1 12 16, 2012 A10000012B7CGYKOMPQ4L\n",
       "2 12 11, 2003 A2S166WSCFIFP5       \n",
       "  reviewerName                                    summary      unixReviewTime\n",
       "1 Adam                                            Wonderful!   1355616000    \n",
       "2 adead_poet@hotmail.com \"adead_poet@hotmail.com\" close to god 1071100800    "
      ]
     },
     "metadata": {},
     "output_type": "display_data"
    }
   ],
   "source": [
    "books %>%\n",
    "  head(2) %>%\n",
    "  collect()"
   ]
  },
  {
   "cell_type": "code",
   "execution_count": 8,
   "metadata": {},
   "outputs": [
    {
     "name": "stdout",
     "output_type": "stream",
     "text": [
      "$asin\n",
      "$asin$name\n",
      "[1] \"asin\"\n",
      "\n",
      "$asin$type\n",
      "[1] \"StringType\"\n",
      "\n",
      "\n",
      "$helpful\n",
      "$helpful$name\n",
      "[1] \"helpful\"\n",
      "\n",
      "$helpful$type\n",
      "[1] \"ArrayType(LongType,true)\"\n",
      "\n",
      "\n",
      "$overall\n",
      "$overall$name\n",
      "[1] \"overall\"\n",
      "\n",
      "$overall$type\n",
      "[1] \"DoubleType\"\n",
      "\n",
      "\n",
      "$reviewText\n",
      "$reviewText$name\n",
      "[1] \"reviewText\"\n",
      "\n",
      "$reviewText$type\n",
      "[1] \"StringType\"\n",
      "\n",
      "\n",
      "$reviewTime\n",
      "$reviewTime$name\n",
      "[1] \"reviewTime\"\n",
      "\n",
      "$reviewTime$type\n",
      "[1] \"StringType\"\n",
      "\n",
      "\n",
      "$reviewerID\n",
      "$reviewerID$name\n",
      "[1] \"reviewerID\"\n",
      "\n",
      "$reviewerID$type\n",
      "[1] \"StringType\"\n",
      "\n",
      "\n",
      "$reviewerName\n",
      "$reviewerName$name\n",
      "[1] \"reviewerName\"\n",
      "\n",
      "$reviewerName$type\n",
      "[1] \"StringType\"\n",
      "\n",
      "\n",
      "$summary\n",
      "$summary$name\n",
      "[1] \"summary\"\n",
      "\n",
      "$summary$type\n",
      "[1] \"StringType\"\n",
      "\n",
      "\n",
      "$unixReviewTime\n",
      "$unixReviewTime$name\n",
      "[1] \"unixReviewTime\"\n",
      "\n",
      "$unixReviewTime$type\n",
      "[1] \"LongType\"\n",
      "\n",
      "\n"
     ]
    }
   ],
   "source": [
    "# sdf_schema(books)\n",
    "print(sdf_schema(books))"
   ]
  },
  {
   "cell_type": "markdown",
   "metadata": {},
   "source": [
    "Here I used the Hive function `rpad` to truncate the variable `reviewText` to 30 characters. This allows for a correct display of the table.  \n",
    "See more Hive functions in the [**References**](#References) section below. And also [this](http://www.folkstalk.com/2011/11/string-functions-in-hive.html):"
   ]
  },
  {
   "cell_type": "code",
   "execution_count": 14,
   "metadata": {},
   "outputs": [
    {
     "data": {
      "text/html": [
       "<table>\n",
       "<thead><tr><th scope=col>reviewText_trunc</th><th scope=col>overall</th></tr></thead>\n",
       "<tbody>\n",
       "\t<tr><td>Spiritually and mentally inspi</td><td>5                             </td></tr>\n",
       "\t<tr><td>This is one my must have books</td><td>5                             </td></tr>\n",
       "\t<tr><td>This book provides a reflectio</td><td>5                             </td></tr>\n",
       "\t<tr><td>I first read THE PROPHET in co</td><td>5                             </td></tr>\n",
       "\t<tr><td>A timeless classic.  It is a v</td><td>5                             </td></tr>\n",
       "\t<tr><td>Reading this made my mind feel</td><td>5                             </td></tr>\n",
       "</tbody>\n",
       "</table>\n"
      ],
      "text/latex": [
       "\\begin{tabular}{r|ll}\n",
       " reviewText\\_trunc & overall\\\\\n",
       "\\hline\n",
       "\t Spiritually and mentally inspi & 5                             \\\\\n",
       "\t This is one my must have books & 5                             \\\\\n",
       "\t This book provides a reflectio & 5                             \\\\\n",
       "\t I first read THE PROPHET in co & 5                             \\\\\n",
       "\t A timeless classic.  It is a v & 5                             \\\\\n",
       "\t Reading this made my mind feel & 5                             \\\\\n",
       "\\end{tabular}\n"
      ],
      "text/markdown": [
       "\n",
       "reviewText_trunc | overall | \n",
       "|---|---|---|---|---|---|\n",
       "| Spiritually and mentally inspi | 5                              | \n",
       "| This is one my must have books | 5                              | \n",
       "| This book provides a reflectio | 5                              | \n",
       "| I first read THE PROPHET in co | 5                              | \n",
       "| A timeless classic.  It is a v | 5                              | \n",
       "| Reading this made my mind feel | 5                              | \n",
       "\n",
       "\n"
      ],
      "text/plain": [
       "  reviewText_trunc               overall\n",
       "1 Spiritually and mentally inspi 5      \n",
       "2 This is one my must have books 5      \n",
       "3 This book provides a reflectio 5      \n",
       "4 I first read THE PROPHET in co 5      \n",
       "5 A timeless classic.  It is a v 5      \n",
       "6 Reading this made my mind feel 5      "
      ]
     },
     "metadata": {},
     "output_type": "display_data"
    }
   ],
   "source": [
    "books %>%\n",
    "  mutate(reviewText_trunc = as.character(rpad(reviewText, 30, '...'))) %>%\n",
    "  select(reviewText_trunc, overall) %>% \n",
    "  head() %>%\n",
    "  collect()"
   ]
  },
  {
   "cell_type": "code",
   "execution_count": 11,
   "metadata": {},
   "outputs": [
    {
     "data": {
      "text/html": [
       "<table>\n",
       "<thead><tr><th scope=col>overall</th><th scope=col>n</th></tr></thead>\n",
       "<tbody>\n",
       "\t<tr><td>5      </td><td>4980815</td></tr>\n",
       "\t<tr><td>4      </td><td>2223094</td></tr>\n",
       "\t<tr><td>3      </td><td> 955189</td></tr>\n",
       "\t<tr><td>2      </td><td> 415110</td></tr>\n",
       "\t<tr><td>1      </td><td> 323833</td></tr>\n",
       "</tbody>\n",
       "</table>\n"
      ],
      "text/latex": [
       "\\begin{tabular}{r|ll}\n",
       " overall & n\\\\\n",
       "\\hline\n",
       "\t 5       & 4980815\\\\\n",
       "\t 4       & 2223094\\\\\n",
       "\t 3       &  955189\\\\\n",
       "\t 2       &  415110\\\\\n",
       "\t 1       &  323833\\\\\n",
       "\\end{tabular}\n"
      ],
      "text/markdown": [
       "\n",
       "overall | n | \n",
       "|---|---|---|---|---|\n",
       "| 5       | 4980815 | \n",
       "| 4       | 2223094 | \n",
       "| 3       |  955189 | \n",
       "| 2       |  415110 | \n",
       "| 1       |  323833 | \n",
       "\n",
       "\n"
      ],
      "text/plain": [
       "  overall n      \n",
       "1 5       4980815\n",
       "2 4       2223094\n",
       "3 3        955189\n",
       "4 2        415110\n",
       "5 1        323833"
      ]
     },
     "metadata": {},
     "output_type": "display_data"
    }
   ],
   "source": [
    "books %>%\n",
    "  group_by(overall) %>%\n",
    "  count(overall, sort = TRUE) %>%\n",
    "  collect() "
   ]
  },
  {
   "cell_type": "markdown",
   "metadata": {
    "collapsed": true
   },
   "source": [
    "### Prepare dataset"
   ]
  },
  {
   "cell_type": "markdown",
   "metadata": {
    "collapsed": true
   },
   "source": [
    "We will avoid neutral reviews by keeping only reviews with 1 or 5 stars overall score. We will also filter out the reviews that contain no text."
   ]
  },
  {
   "cell_type": "code",
   "execution_count": 9,
   "metadata": {
    "collapsed": true
   },
   "outputs": [],
   "source": [
    "reviews <- books %>%\n",
    "  filter(overall == 1 | overall == 5) %>%\n",
    "  filter(reviewText != '')"
   ]
  },
  {
   "cell_type": "code",
   "execution_count": 10,
   "metadata": {},
   "outputs": [
    {
     "data": {
      "text/html": [
       "<table>\n",
       "<thead><tr><th scope=col>asin</th><th scope=col>helpful</th><th scope=col>overall</th><th scope=col>reviewText</th><th scope=col>reviewTime</th><th scope=col>reviewerID</th><th scope=col>reviewerName</th><th scope=col>summary</th><th scope=col>unixReviewTime</th></tr></thead>\n",
       "<tbody>\n",
       "\t<tr><td>000100039X                                                                                                                       </td><td>0, 0                                                                                                                             </td><td>5                                                                                                                                </td><td>Spiritually and mentally inspiring! A book that allows you to question your morals and will help you discover who you really are!</td><td>12 16, 2012                                                                                                                      </td><td>A10000012B7CGYKOMPQ4L                                                                                                            </td><td>Adam                                                                                                                             </td><td>Wonderful!                                                                                                                       </td><td>1355616000                                                                                                                       </td></tr>\n",
       "</tbody>\n",
       "</table>\n"
      ],
      "text/latex": [
       "\\begin{tabular}{r|lllllllll}\n",
       " asin & helpful & overall & reviewText & reviewTime & reviewerID & reviewerName & summary & unixReviewTime\\\\\n",
       "\\hline\n",
       "\t 000100039X                                                                                                                        & 0, 0                                                                                                                              & 5                                                                                                                                 & Spiritually and mentally inspiring! A book that allows you to question your morals and will help you discover who you really are! & 12 16, 2012                                                                                                                       & A10000012B7CGYKOMPQ4L                                                                                                             & Adam                                                                                                                              & Wonderful!                                                                                                                        & 1355616000                                                                                                                       \\\\\n",
       "\\end{tabular}\n"
      ],
      "text/markdown": [
       "\n",
       "asin | helpful | overall | reviewText | reviewTime | reviewerID | reviewerName | summary | unixReviewTime | \n",
       "|---|\n",
       "| 000100039X                                                                                                                        | 0, 0                                                                                                                              | 5                                                                                                                                 | Spiritually and mentally inspiring! A book that allows you to question your morals and will help you discover who you really are! | 12 16, 2012                                                                                                                       | A10000012B7CGYKOMPQ4L                                                                                                             | Adam                                                                                                                              | Wonderful!                                                                                                                        | 1355616000                                                                                                                        | \n",
       "\n",
       "\n"
      ],
      "text/plain": [
       "  asin       helpful overall\n",
       "1 000100039X 0, 0    5      \n",
       "  reviewText                                                                                                                       \n",
       "1 Spiritually and mentally inspiring! A book that allows you to question your morals and will help you discover who you really are!\n",
       "  reviewTime  reviewerID            reviewerName summary    unixReviewTime\n",
       "1 12 16, 2012 A10000012B7CGYKOMPQ4L Adam         Wonderful! 1355616000    "
      ]
     },
     "metadata": {},
     "output_type": "display_data"
    }
   ],
   "source": [
    "reviews %>%\n",
    "  head(1) %>%\n",
    "  collect()"
   ]
  },
  {
   "cell_type": "markdown",
   "metadata": {},
   "source": [
    "We will use `cache` when the lineage of your RDD branches out or when an RDD is used multiple times like in a loop"
   ]
  },
  {
   "cell_type": "code",
   "execution_count": 17,
   "metadata": {
    "collapsed": true
   },
   "outputs": [],
   "source": [
    "# tbl_cache(sc, reviews, force = TRUE)\n",
    "## tbl_uncache(sc, books)"
   ]
  },
  {
   "cell_type": "code",
   "execution_count": 10,
   "metadata": {},
   "outputs": [
    {
     "data": {
      "text/html": [
       "<table>\n",
       "<thead><tr><th scope=col>n</th></tr></thead>\n",
       "<tbody>\n",
       "\t<tr><td>5304187</td></tr>\n",
       "</tbody>\n",
       "</table>\n"
      ],
      "text/latex": [
       "\\begin{tabular}{r|l}\n",
       " n\\\\\n",
       "\\hline\n",
       "\t 5304187\\\\\n",
       "\\end{tabular}\n"
      ],
      "text/markdown": [
       "\n",
       "n | \n",
       "|---|\n",
       "| 5304187 | \n",
       "\n",
       "\n"
      ],
      "text/plain": [
       "  n      \n",
       "1 5304187"
      ]
     },
     "metadata": {},
     "output_type": "display_data"
    }
   ],
   "source": [
    "reviews %>%\n",
    "  count() %>%\n",
    "  collect()"
   ]
  },
  {
   "cell_type": "markdown",
   "metadata": {},
   "source": [
    "So far, so good."
   ]
  },
  {
   "cell_type": "code",
   "execution_count": null,
   "metadata": {
    "collapsed": true
   },
   "outputs": [],
   "source": []
  },
  {
   "cell_type": "markdown",
   "metadata": {},
   "source": [
    "### Binarize - dichotomize"
   ]
  },
  {
   "cell_type": "markdown",
   "metadata": {},
   "source": [
    "We will convert the numerical covariate `overall` to binary (0/1) features."
   ]
  },
  {
   "cell_type": "code",
   "execution_count": 11,
   "metadata": {
    "collapsed": true
   },
   "outputs": [],
   "source": [
    "bin_reviews <- ft_binarizer(reviews, threshold = 2.5, input.col = 'overall', output.col = 'label')"
   ]
  },
  {
   "cell_type": "code",
   "execution_count": 20,
   "metadata": {},
   "outputs": [
    {
     "data": {
      "text/html": [
       "<table>\n",
       "<thead><tr><th scope=col>reviewText</th><th scope=col>overall</th><th scope=col>label</th></tr></thead>\n",
       "<tbody>\n",
       "\t<tr><td>Spiritually and mentally inspiring! A book that allows you to question your morals and will help you discover who you really are!</td><td>5                                                                                                                                </td><td>1                                                                                                                                </td></tr>\n",
       "</tbody>\n",
       "</table>\n"
      ],
      "text/latex": [
       "\\begin{tabular}{r|lll}\n",
       " reviewText & overall & label\\\\\n",
       "\\hline\n",
       "\t Spiritually and mentally inspiring! A book that allows you to question your morals and will help you discover who you really are! & 5                                                                                                                                 & 1                                                                                                                                \\\\\n",
       "\\end{tabular}\n"
      ],
      "text/markdown": [
       "\n",
       "reviewText | overall | label | \n",
       "|---|\n",
       "| Spiritually and mentally inspiring! A book that allows you to question your morals and will help you discover who you really are! | 5                                                                                                                                 | 1                                                                                                                                 | \n",
       "\n",
       "\n"
      ],
      "text/plain": [
       "  reviewText                                                                                                                       \n",
       "1 Spiritually and mentally inspiring! A book that allows you to question your morals and will help you discover who you really are!\n",
       "  overall label\n",
       "1 5       1    "
      ]
     },
     "metadata": {},
     "output_type": "display_data"
    }
   ],
   "source": [
    "bin_reviews %>%\n",
    "  select(reviewText, overall, label) %>% \n",
    "  head(1) %>%\n",
    "  collect()"
   ]
  },
  {
   "cell_type": "code",
   "execution_count": 13,
   "metadata": {},
   "outputs": [
    {
     "data": {
      "text/html": [
       "<table>\n",
       "<thead><tr><th scope=col>reviewText_trunc</th><th scope=col>overall</th></tr></thead>\n",
       "<tbody>\n",
       "\t<tr><td>Spiritually and mentally inspi</td><td>5                             </td></tr>\n",
       "\t<tr><td>This is one my must have books</td><td>5                             </td></tr>\n",
       "\t<tr><td>This book provides a reflectio</td><td>5                             </td></tr>\n",
       "</tbody>\n",
       "</table>\n"
      ],
      "text/latex": [
       "\\begin{tabular}{r|ll}\n",
       " reviewText\\_trunc & overall\\\\\n",
       "\\hline\n",
       "\t Spiritually and mentally inspi & 5                             \\\\\n",
       "\t This is one my must have books & 5                             \\\\\n",
       "\t This book provides a reflectio & 5                             \\\\\n",
       "\\end{tabular}\n"
      ],
      "text/markdown": [
       "\n",
       "reviewText_trunc | overall | \n",
       "|---|---|---|\n",
       "| Spiritually and mentally inspi | 5                              | \n",
       "| This is one my must have books | 5                              | \n",
       "| This book provides a reflectio | 5                              | \n",
       "\n",
       "\n"
      ],
      "text/plain": [
       "  reviewText_trunc               overall\n",
       "1 Spiritually and mentally inspi 5      \n",
       "2 This is one my must have books 5      \n",
       "3 This book provides a reflectio 5      "
      ]
     },
     "metadata": {},
     "output_type": "display_data"
    }
   ],
   "source": [
    "bin_reviews %>%\n",
    "  mutate(reviewText_trunc = as.character(rpad(reviewText, 30, '...'))) %>%\n",
    "  select(reviewText_trunc, overall) %>% \n",
    "  head(3) %>%\n",
    "  collect()"
   ]
  },
  {
   "cell_type": "markdown",
   "metadata": {},
   "source": [
    "### Tokenize"
   ]
  },
  {
   "cell_type": "code",
   "execution_count": 12,
   "metadata": {
    "collapsed": true
   },
   "outputs": [],
   "source": [
    "tokenized_reviews <- ft_tokenizer(bin_reviews, input.col = 'reviewText', output.col = 'word')"
   ]
  },
  {
   "cell_type": "code",
   "execution_count": 13,
   "metadata": {},
   "outputs": [
    {
     "data": {
      "text/html": [
       "<table>\n",
       "<thead><tr><th scope=col>reviewText</th><th scope=col>label</th><th scope=col>word</th></tr></thead>\n",
       "<tbody>\n",
       "\t<tr><td>Spiritually and mentally inspiring! A book that allows you to question your morals and will help you discover who you really are!                                                                                                                                                           </td><td>1                                                                                                                                                                                                                                                                                           </td><td>spiritually, and        , mentally   , inspiring! , a          , book       , that       , allows     , you        , to         , question   , your       , morals     , and        , will       , help       , you        , discover   , who        , you        , really     , are!       </td></tr>\n",
       "</tbody>\n",
       "</table>\n"
      ],
      "text/latex": [
       "\\begin{tabular}{r|lll}\n",
       " reviewText & label & word\\\\\n",
       "\\hline\n",
       "\t Spiritually and mentally inspiring! A book that allows you to question your morals and will help you discover who you really are!                                                                                                                                                            & 1                                                                                                                                                                                                                                                                                            & spiritually, and        , mentally   , inspiring! , a          , book       , that       , allows     , you        , to         , question   , your       , morals     , and        , will       , help       , you        , discover   , who        , you        , really     , are!       \\\\\n",
       "\\end{tabular}\n"
      ],
      "text/markdown": [
       "\n",
       "reviewText | label | word | \n",
       "|---|\n",
       "| Spiritually and mentally inspiring! A book that allows you to question your morals and will help you discover who you really are!                                                                                                                                                            | 1                                                                                                                                                                                                                                                                                            | spiritually, and        , mentally   , inspiring! , a          , book       , that       , allows     , you        , to         , question   , your       , morals     , and        , will       , help       , you        , discover   , who        , you        , really     , are!        | \n",
       "\n",
       "\n"
      ],
      "text/plain": [
       "  reviewText                                                                                                                       \n",
       "1 Spiritually and mentally inspiring! A book that allows you to question your morals and will help you discover who you really are!\n",
       "  label\n",
       "1 1    \n",
       "  word                                                                                                                                                                                                                                                                                        \n",
       "1 spiritually, and        , mentally   , inspiring! , a          , book       , that       , allows     , you        , to         , question   , your       , morals     , and        , will       , help       , you        , discover   , who        , you        , really     , are!       "
      ]
     },
     "metadata": {},
     "output_type": "display_data"
    }
   ],
   "source": [
    "tokenized_reviews %>%\n",
    "  select(reviewText, label, word) %>% \n",
    "  head(1) %>%\n",
    "  collect()"
   ]
  },
  {
   "cell_type": "code",
   "execution_count": 14,
   "metadata": {},
   "outputs": [
    {
     "data": {
      "text/plain": [
       "# Source:   lazy query [?? x 1]\n",
       "# Database: spark_connection\n",
       "         word\n",
       "       <list>\n",
       "1 <list [22]>"
      ]
     },
     "metadata": {},
     "output_type": "display_data"
    }
   ],
   "source": [
    "tokenized_reviews %>%\n",
    "  select(word) %>% \n",
    "  head(1) "
   ]
  },
  {
   "cell_type": "markdown",
   "metadata": {},
   "source": [
    "Here we see that the variable `word` is a **list-column**. To process it we would have to use [`tidyr::unnest`](https://www.rdocumentation.org/packages/tidyr/versions/0.6.3/topics/unnest).  \n",
    "However, working with R methods such as `unnest` implies that the dataset must be downloaded to memory, which is unfeasible given its size.  \n",
    "Unfortunately, as of today there's no method for unnesting in `sparklyr` (see [here](https://campus.datacamp.com/courses/introduction-to-spark-in-r-using-sparklyr/going-native-use-the-native-interface-to-manipulate-spark-dataframes?ex=6)).  \n",
    "As an example, you can see what `unnest` can do in R: "
   ]
  },
  {
   "cell_type": "code",
   "execution_count": 3,
   "metadata": {
    "collapsed": true
   },
   "outputs": [],
   "source": [
    "token_reviews <- 2\n",
    "  tokenized_reviews %>%\n",
    "  selectselect(word) %>%\n",
    "  head(10) %>%\n",
    "  collect() %>%\n",
    "  mutate(word = lapply(word, as.character)) %>%\n",
    "  unnest(word)"
   ]
  },
  {
   "cell_type": "code",
   "execution_count": 22,
   "metadata": {
    "scrolled": false
   },
   "outputs": [
    {
     "data": {
      "text/html": [
       "<table>\n",
       "<thead><tr><th scope=col>word</th></tr></thead>\n",
       "<tbody>\n",
       "\t<tr><td>spiritually</td></tr>\n",
       "\t<tr><td>and        </td></tr>\n",
       "\t<tr><td>mentally   </td></tr>\n",
       "\t<tr><td>inspiring! </td></tr>\n",
       "\t<tr><td>a          </td></tr>\n",
       "</tbody>\n",
       "</table>\n"
      ],
      "text/latex": [
       "\\begin{tabular}{r|l}\n",
       " word\\\\\n",
       "\\hline\n",
       "\t spiritually\\\\\n",
       "\t and        \\\\\n",
       "\t mentally   \\\\\n",
       "\t inspiring! \\\\\n",
       "\t a          \\\\\n",
       "\\end{tabular}\n"
      ],
      "text/markdown": [
       "\n",
       "word | \n",
       "|---|---|---|---|---|\n",
       "| spiritually | \n",
       "| and         | \n",
       "| mentally    | \n",
       "| inspiring!  | \n",
       "| a           | \n",
       "\n",
       "\n"
      ],
      "text/plain": [
       "  word       \n",
       "1 spiritually\n",
       "2 and        \n",
       "3 mentally   \n",
       "4 inspiring! \n",
       "5 a          "
      ]
     },
     "metadata": {},
     "output_type": "display_data"
    }
   ],
   "source": [
    "token_reviews %>% \n",
    "  head(5)"
   ]
  },
  {
   "cell_type": "markdown",
   "metadata": {},
   "source": [
    "## Workaround: `bin_reviews` in PySpark"
   ]
  },
  {
   "cell_type": "markdown",
   "metadata": {},
   "source": [
    "When a method is not present in `sparklyr`, the easiest solution is resorting to [**PySpark**](https://spark.apache.org/docs/0.9.0/python-programming-guide.html), which exposes the Spark (Scala) programming model to Python.  \n",
    "A great tutorial to start is this [PySpark Course](https://github.com/javicacheiro/pyspark_course), by @javicacheiro.  \n",
    "We will start feeding some data to PySpark, so first we must save our dataset `bin_reviews` in HDFS:"
   ]
  },
  {
   "cell_type": "code",
   "execution_count": 12,
   "metadata": {
    "collapsed": true
   },
   "outputs": [],
   "source": [
    "spark_write_json(bin_reviews, \"amazon/bin_reviews.json\", mode = NULL, options = list())\n",
    "# spark_write_json(tokenized_reviews, \"amazon/tokenized_reviews.json\", mode = NULL, options = list())"
   ]
  },
  {
   "cell_type": "markdown",
   "metadata": {},
   "source": [
    "Just to be sure, we can check if the database has been saved:"
   ]
  },
  {
   "cell_type": "markdown",
   "metadata": {},
   "source": [
    "    $ hdfs dfs -ls amazon"
   ]
  },
  {
   "cell_type": "markdown",
   "metadata": {},
   "source": [
    "Follow the PySpark transformations to the data, in the notebook [sparklyr_python.ipynb](./sparklyr_python.ipynb): \n",
    "- In PySpark, we will tokenize our `words` variable.  \n",
    "- We will remove the stop words.\n",
    "- We will 'flatten' or 'explode' our `words` column to have each word in its own row.\n",
    "- Then, we'll reload the transformed dataset! (Thanks, pySpark!)"
   ]
  },
  {
   "cell_type": "markdown",
   "metadata": {},
   "source": [
    "## Returning to `sparklyr`"
   ]
  },
  {
   "cell_type": "markdown",
   "metadata": {},
   "source": [
    "Import the transformed data into `sparklyr` again: "
   ]
  },
  {
   "cell_type": "code",
   "execution_count": null,
   "metadata": {
    "collapsed": true
   },
   "outputs": [],
   "source": [
    "unnested_reviews <- spark_read_json(sc, name = \"unnested_reviews\", path = \"amazon/unnested_reviews.json\") "
   ]
  },
  {
   "cell_type": "markdown",
   "metadata": {},
   "source": [
    "### Remove stop-words"
   ]
  },
  {
   "cell_type": "code",
   "execution_count": 23,
   "metadata": {
    "collapsed": true
   },
   "outputs": [],
   "source": [
    "# data(\"stop_words\")\n",
    "spk_stop_words <- sdf_copy_to(sc, stop_words, \"spk_stop_words\", overwrite = TRUE)"
   ]
  },
  {
   "cell_type": "code",
   "execution_count": 70,
   "metadata": {},
   "outputs": [
    {
     "data": {
      "text/html": [
       "<table>\n",
       "<thead><tr><th scope=col>word</th><th scope=col>lexicon</th></tr></thead>\n",
       "<tbody>\n",
       "\t<tr><td>a    </td><td>SMART</td></tr>\n",
       "\t<tr><td>a's  </td><td>SMART</td></tr>\n",
       "\t<tr><td>able </td><td>SMART</td></tr>\n",
       "\t<tr><td>about</td><td>SMART</td></tr>\n",
       "\t<tr><td>above</td><td>SMART</td></tr>\n",
       "</tbody>\n",
       "</table>\n"
      ],
      "text/latex": [
       "\\begin{tabular}{r|ll}\n",
       " word & lexicon\\\\\n",
       "\\hline\n",
       "\t a     & SMART\\\\\n",
       "\t a's   & SMART\\\\\n",
       "\t able  & SMART\\\\\n",
       "\t about & SMART\\\\\n",
       "\t above & SMART\\\\\n",
       "\\end{tabular}\n"
      ],
      "text/markdown": [
       "\n",
       "word | lexicon | \n",
       "|---|---|---|---|---|\n",
       "| a     | SMART | \n",
       "| a's   | SMART | \n",
       "| able  | SMART | \n",
       "| about | SMART | \n",
       "| above | SMART | \n",
       "\n",
       "\n"
      ],
      "text/plain": [
       "  word  lexicon\n",
       "1 a     SMART  \n",
       "2 a's   SMART  \n",
       "3 able  SMART  \n",
       "4 about SMART  \n",
       "5 above SMART  "
      ]
     },
     "metadata": {},
     "output_type": "display_data"
    }
   ],
   "source": [
    "spk_stop_words %>%\n",
    "  head(5) %>%\n",
    "  collect()"
   ]
  },
  {
   "cell_type": "code",
   "execution_count": null,
   "metadata": {
    "collapsed": true
   },
   "outputs": [],
   "source": [
    "removed_reviews <- tokenized_reviews %>%\n",
    "  anti_join(spk_stop_words, by=\"word\") %>%\n",
    "  head(2)"
   ]
  },
  {
   "cell_type": "markdown",
   "metadata": {},
   "source": [
    "### Split Data"
   ]
  },
  {
   "cell_type": "code",
   "execution_count": 11,
   "metadata": {
    "collapsed": true
   },
   "outputs": [],
   "source": [
    "partitions <- reviews %>%\n",
    "  sdf_partition(trainingData = 0.8, testData = 0.2)"
   ]
  },
  {
   "cell_type": "code",
   "execution_count": 15,
   "metadata": {},
   "outputs": [
    {
     "data": {
      "text/plain": [
       "$trainingData\n",
       "# Source:   table<sparklyr_tmp_730d6c85138b> [?? x 9]\n",
       "# Database: spark_connection\n",
       "         asin    helpful overall\n",
       "        <chr>     <list>   <dbl>\n",
       " 1 000100039X <list [2]>       5\n",
       " 2 000100039X <list [2]>       5\n",
       " 3 000100039X <list [2]>       5\n",
       " 4 000100039X <list [2]>       5\n",
       " 5 000100039X <list [2]>       5\n",
       " 6 000100039X <list [2]>       5\n",
       " 7 000100039X <list [2]>       5\n",
       " 8 000100039X <list [2]>       5\n",
       " 9 000100039X <list [2]>       5\n",
       "10 000100039X <list [2]>       5\n",
       "# ... with 4.243e+06 more rows, and 6 more variables: reviewText <chr>,\n",
       "#   reviewTime <chr>, reviewerID <chr>, reviewerName <chr>, summary <chr>,\n",
       "#   unixReviewTime <dbl>\n",
       "\n",
       "$testData\n",
       "# Source:   table<sparklyr_tmp_730d515d0327> [?? x 9]\n",
       "# Database: spark_connection\n",
       "         asin    helpful overall\n",
       "        <chr>     <list>   <dbl>\n",
       " 1 000100039X <list [2]>       5\n",
       " 2 000100039X <list [2]>       5\n",
       " 3 000100039X <list [2]>       5\n",
       " 4 000100039X <list [2]>       5\n",
       " 5 000100039X <list [2]>       5\n",
       " 6 000100039X <list [2]>       5\n",
       " 7 000100039X <list [2]>       5\n",
       " 8 000100039X <list [2]>       5\n",
       " 9 000100039X <list [2]>       5\n",
       "10 000100039X <list [2]>       5\n",
       "# ... with 1.061e+06 more rows, and 6 more variables: reviewText <chr>,\n",
       "#   reviewTime <chr>, reviewerID <chr>, reviewerName <chr>, summary <chr>,\n",
       "#   unixReviewTime <dbl>\n"
      ]
     },
     "metadata": {},
     "output_type": "display_data"
    }
   ],
   "source": [
    "partitions "
   ]
  },
  {
   "cell_type": "markdown",
   "metadata": {},
   "source": [
    "### Fit data"
   ]
  },
  {
   "cell_type": "code",
   "execution_count": null,
   "metadata": {
    "collapsed": true
   },
   "outputs": [],
   "source": []
  },
  {
   "cell_type": "code",
   "execution_count": null,
   "metadata": {
    "collapsed": true
   },
   "outputs": [],
   "source": []
  },
  {
   "cell_type": "code",
   "execution_count": null,
   "metadata": {
    "collapsed": true
   },
   "outputs": [],
   "source": []
  },
  {
   "cell_type": "markdown",
   "metadata": {},
   "source": [
    "### Predict"
   ]
  },
  {
   "cell_type": "code",
   "execution_count": null,
   "metadata": {
    "collapsed": true
   },
   "outputs": [],
   "source": []
  },
  {
   "cell_type": "code",
   "execution_count": null,
   "metadata": {
    "collapsed": true
   },
   "outputs": [],
   "source": []
  },
  {
   "cell_type": "code",
   "execution_count": null,
   "metadata": {
    "collapsed": true
   },
   "outputs": [],
   "source": []
  },
  {
   "cell_type": "markdown",
   "metadata": {},
   "source": [
    "### Plot data"
   ]
  },
  {
   "cell_type": "code",
   "execution_count": null,
   "metadata": {
    "collapsed": true
   },
   "outputs": [],
   "source": []
  },
  {
   "cell_type": "code",
   "execution_count": null,
   "metadata": {
    "collapsed": true
   },
   "outputs": [],
   "source": []
  },
  {
   "cell_type": "markdown",
   "metadata": {},
   "source": [
    "## Session "
   ]
  },
  {
   "cell_type": "markdown",
   "metadata": {},
   "source": [
    "### Paths recognised by sparkR "
   ]
  },
  {
   "cell_type": "code",
   "execution_count": 29,
   "metadata": {
    "collapsed": true
   },
   "outputs": [],
   "source": [
    ".libPaths()\n",
    "Sys.getenv(\"R_HOME\")"
   ]
  },
  {
   "cell_type": "markdown",
   "metadata": {},
   "source": [
    "### R session info"
   ]
  },
  {
   "cell_type": "code",
   "execution_count": 86,
   "metadata": {},
   "outputs": [
    {
     "data": {
      "text/plain": [
       "R version 3.3.2 (2016-10-31)\n",
       "Platform: x86_64-pc-linux-gnu (64-bit)\n",
       "Running under: CentOS Linux 7 (Core)\n",
       "\n",
       "locale:\n",
       " [1] LC_CTYPE=es_ES.UTF-8       LC_NUMERIC=C              \n",
       " [3] LC_TIME=es_ES.UTF-8        LC_COLLATE=es_ES.UTF-8    \n",
       " [5] LC_MONETARY=es_ES.UTF-8    LC_MESSAGES=es_ES.UTF-8   \n",
       " [7] LC_PAPER=es_ES.UTF-8       LC_NAME=C                 \n",
       " [9] LC_ADDRESS=C               LC_TELEPHONE=C            \n",
       "[11] LC_MEASUREMENT=es_ES.UTF-8 LC_IDENTIFICATION=C       \n",
       "\n",
       "attached base packages:\n",
       "[1] stats     graphics  grDevices utils     datasets  methods   base     \n",
       "\n",
       "other attached packages:\n",
       "[1] purrr_0.2.2.2  tidytext_0.1.3 repr_0.10      ggplot2_2.2.0  knitr_1.15.1  \n",
       "[6] dplyr_0.7.1    sparklyr_0.5.6 SparkR_1.6.1  \n",
       "\n",
       "loaded via a namespace (and not attached):\n",
       " [1] pbdZMQ_0.2-4      reshape2_1.4.2    lattice_0.20-34   colorspace_1.3-1 \n",
       " [5] htmltools_0.3.5   SnowballC_0.5.1   yaml_2.1.14       base64enc_0.1-3  \n",
       " [9] rlang_0.1.1       withr_1.0.2       foreign_0.8-67    glue_1.1.1       \n",
       "[13] DBI_0.7           dbplyr_1.1.0      bindrcpp_0.2      uuid_0.1-2       \n",
       "[17] bindr_0.1         plyr_1.8.4        stringr_1.2.0     munsell_0.4.3    \n",
       "[21] gtable_0.2.0      psych_1.6.9       evaluate_0.10     httpuv_1.3.3     \n",
       "[25] parallel_3.3.2    broom_0.4.1       IRdisplay_0.4.4   tokenizers_0.1.4 \n",
       "[29] Rcpp_0.12.8       readr_1.0.0       xtable_1.8-2      backports_1.0.4  \n",
       "[33] scales_0.4.1      IRkernel_0.7.1    jsonlite_1.1      config_0.2       \n",
       "[37] mime_0.5          mnormt_1.5-5      digest_0.6.10     stringi_1.1.2    \n",
       "[41] shiny_1.0.3       grid_3.3.2        rprojroot_1.1     tools_3.3.2      \n",
       "[45] magrittr_1.5      lazyeval_0.2.0    tibble_1.3.3      janeaustenr_0.1.5\n",
       "[49] crayon_1.3.2      tidyr_0.6.0       pkgconfig_2.0.1   Matrix_1.2-7.1   \n",
       "[53] assertthat_0.1    httr_1.2.1        rstudioapi_0.6    R6_2.2.0         \n",
       "[57] nlme_3.1-128     "
      ]
     },
     "metadata": {},
     "output_type": "display_data"
    }
   ],
   "source": [
    "sessionInfo()"
   ]
  },
  {
   "cell_type": "markdown",
   "metadata": {},
   "source": [
    "## References \n",
    "\n",
    "- [`sparklyr` presentation](https://cdn.oreillystatic.com/en/assets/1/event/193/Sparklyr_%20An%20R%20interface%20for%20Apache%20Spark%20Presentation.pdf)\n",
    "- [`sparklyr` tutorial](http://spark.rstudio.com/).\n",
    "- [`sparklyr` cheatsheet](http://spark.rstudio.com/images/sparklyr-cheatsheet.pdf).\n",
    "- [`sparklyr`: creating extensions](http://spark.rstudio.com/extensions.html).\n",
    "- [Differences between `sparkr` and `sparklyr`](https://stackoverflow.com/questions/39494484/sparkr-vs-sparklyr)..\n",
    "- [Hive Operators and UDFs](https://cwiki.apache.org/confluence/display/Hive/LanguageManual+UDF)."
   ]
  },
  {
   "cell_type": "code",
   "execution_count": null,
   "metadata": {
    "collapsed": true
   },
   "outputs": [],
   "source": []
  }
 ],
 "metadata": {
  "kernelspec": {
   "display_name": "R",
   "language": "R",
   "name": "ir"
  },
  "language_info": {
   "codemirror_mode": "r",
   "file_extension": ".r",
   "mimetype": "text/x-r-source",
   "name": "R",
   "pygments_lexer": "r",
   "version": "3.3.2"
  }
 },
 "nbformat": 4,
 "nbformat_minor": 1
}
